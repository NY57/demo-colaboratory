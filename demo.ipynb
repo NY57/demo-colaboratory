{
 "cells": [
  {
   "cell_type": "code",
   "execution_count": null,
   "metadata": {},
   "outputs": [],
   "source": [
    "!pip install jijmodeling"
   ]
  },
  {
   "cell_type": "markdown",
   "metadata": {},
   "source": [
    "## JijModelingを試してみよう！"
   ]
  },
  {
   "cell_type": "code",
   "execution_count": 3,
   "metadata": {},
   "outputs": [
    {
     "data": {
      "text/latex": [
       "$$\\begin{array}{cccc}\\text{Problem:} & \\text{Demo} & & \\\\& & \\min \\quad \\displaystyle \\sum_{i = 0}^{N - 1} d_{i} \\cdot x_{i} & \\\\\\text{{s.t.}} & & & \\\\ & \\text{constraint} & \\displaystyle \\sum_{\\ast_{0} = 0}^{N - 1} x_{\\ast_{0}} = 1 &  \\\\\\text{{where}} & & & \\\\& x & 1\\text{-dim binary variable}\\\\\\end{array}$$"
      ],
      "text/plain": [
       "<jijmodeling.Problem at 0x14fae1180>"
      ]
     },
     "execution_count": 3,
     "metadata": {},
     "output_type": "execute_result"
    }
   ],
   "source": [
    "import jijmodeling as jm\n",
    "\n",
    "d = jm.Placeholder(\"d\", ndim=1)\n",
    "N = d.len_at(0, latex=\"N\")\n",
    "x = jm.BinaryVar(\"x\", shape=(N,))\n",
    "i = jm.Element(\"i\", belong_to=(0, N))\n",
    "\n",
    "problem = jm.Problem(\"Demo\")\n",
    "problem += jm.sum(i, d[i] * x[i])\n",
    "problem += jm.Constraint(\"constraint\", x[:].sum() == 1)\n",
    "\n",
    "problem"
   ]
  },
  {
   "cell_type": "code",
   "execution_count": null,
   "metadata": {},
   "outputs": [],
   "source": []
  }
 ],
 "metadata": {
  "kernelspec": {
   "display_name": ".venv",
   "language": "python",
   "name": "python3"
  },
  "language_info": {
   "codemirror_mode": {
    "name": "ipython",
    "version": 3
   },
   "file_extension": ".py",
   "mimetype": "text/x-python",
   "name": "python",
   "nbconvert_exporter": "python",
   "pygments_lexer": "ipython3",
   "version": "3.9.16"
  }
 },
 "nbformat": 4,
 "nbformat_minor": 2
}
